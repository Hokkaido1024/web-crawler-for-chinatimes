{
 "cells": [
  {
   "cell_type": "code",
   "execution_count": 1,
   "id": "b2222f84",
   "metadata": {},
   "outputs": [],
   "source": [
    "from selenium import webdriver\n",
    "from selenium.webdriver.common.by import By\n",
    "from selenium.webdriver.support.ui import WebDriverWait\n",
    "from selenium.webdriver.support import expected_conditions as EC\n",
    "import undetected_chromedriver as uc\n",
    "import pandas as pd\n",
    "import random\n",
    "from datetime import datetime, date\n",
    "import datetime \n",
    "import time\n",
    "import os\n",
    "import csv\n",
    "from concurrent.futures import ThreadPoolExecutor\n",
    "import openpyxl"
   ]
  },
  {
   "cell_type": "code",
   "execution_count": 2,
   "id": "b07c334d",
   "metadata": {},
   "outputs": [],
   "source": [
    "options= webdriver.ChromeOptions()\n",
    "# options.add_argument('--headless')  #後臺運行\n",
    "options.add_argument('--no-sandbox') \n",
    "# options.add_argument('--disable-gpu') #ban GPU加速\n",
    "# options.add_argument('--disable-dev-shm-usage') #ban內存\n",
    "#完成設定\n",
    "driver = uc.Chrome(options=options)\n",
    "driver.set_window_size(700, 1000)\n",
    "driver.get('https://www.chinatimes.com/?chdtv')"
   ]
  },
  {
   "cell_type": "code",
   "execution_count": 3,
   "id": "dace7b62",
   "metadata": {},
   "outputs": [
    {
     "name": "stdout",
     "output_type": "stream",
     "text": [
      "2025/02/23\n"
     ]
    }
   ],
   "source": [
    "url = []\n",
    "Category = []\n",
    "NEWS_category = []\n",
    "news_url = []\n",
    "title =  []\n",
    "publish_time = []\n",
    "content = []\n",
    "\n",
    "data = {\n",
    "    'Link': url,\n",
    "    'Category': Category,\n",
    "   }\n",
    "\n",
    "compare_news_time = datetime.date.today().strftime('%Y/%m/%d')   #這邊改過\n",
    "print(compare_news_time)\n",
    "now = datetime.date.today().strftime('%Y-%m-%d')"
   ]
  },
  {
   "cell_type": "code",
   "execution_count": 4,
   "id": "46f4fb06",
   "metadata": {
    "scrolled": true
   },
   "outputs": [],
   "source": [
    "category_bar = driver.find_elements(By.CLASS_NAME,'main-nav-item') #這是index 列\n",
    "\n",
    "\n",
    "for index in category_bar[1:21]:\n",
    "    a_tag = index.find_element(By.TAG_NAME, 'a')  #這個是index的href\n",
    "    time.sleep(0.01)\n",
    "    Category.append(index.text)   #這個是index 內的category名\n",
    "    if a_tag:\n",
    "        href = a_tag.get_attribute('href')\n",
    "        url.append(href)"
   ]
  },
  {
   "cell_type": "code",
   "execution_count": 5,
   "id": "8ebe2808",
   "metadata": {
    "scrolled": true
   },
   "outputs": [
    {
     "name": "stdout",
     "output_type": "stream",
     "text": [
      "https://www.chinatimes.com/search/%E6%9E%97%E5%B2%B1%E6%A8%BA?ctrack=pc_main_search_p02\n",
      "Could not click 'more' button on https://www.chinatimes.com/search/%E6%9E%97%E5%B2%B1%E6%A8%BA?ctrack=pc_main_search_p02\n",
      "https://www.chinatimes.com/realtimenews/?chdtv\n",
      "Could not click 'more' button on https://www.chinatimes.com/realtimenews/?chdtv\n",
      "https://www.chinatimes.com/politic/?chdtv\n",
      "更多\n",
      "政治 最新新聞\n"
     ]
    },
    {
     "ename": "KeyboardInterrupt",
     "evalue": "",
     "output_type": "error",
     "traceback": [
      "\u001b[1;31m---------------------------------------------------------------------------\u001b[0m",
      "\u001b[1;31mKeyboardInterrupt\u001b[0m                         Traceback (most recent call last)",
      "Cell \u001b[1;32mIn[5], line 57\u001b[0m\n\u001b[0;32m     54\u001b[0m time\u001b[38;5;241m.\u001b[39msleep(\u001b[38;5;241m10\u001b[39m)  \n\u001b[0;32m     56\u001b[0m \u001b[38;5;28;01mwhile\u001b[39;00m \u001b[38;5;28;01mTrue\u001b[39;00m:\n\u001b[1;32m---> 57\u001b[0m     \u001b[43mtime\u001b[49m\u001b[38;5;241;43m.\u001b[39;49m\u001b[43msleep\u001b[49m\u001b[43m(\u001b[49m\u001b[38;5;241;43m5\u001b[39;49m\u001b[43m)\u001b[49m\n\u001b[0;32m     58\u001b[0m     news_pages \u001b[38;5;241m=\u001b[39m driver\u001b[38;5;241m.\u001b[39mfind_elements(By\u001b[38;5;241m.\u001b[39mCLASS_NAME, \u001b[38;5;124m'\u001b[39m\u001b[38;5;124marticlebox-compact\u001b[39m\u001b[38;5;124m'\u001b[39m)  \u001b[38;5;66;03m# 放新聞的box\u001b[39;00m\n\u001b[0;32m     59\u001b[0m     news_urls \u001b[38;5;241m=\u001b[39m []\n",
      "\u001b[1;31mKeyboardInterrupt\u001b[0m: "
     ]
    }
   ],
   "source": [
    "def process_news_page(href):\n",
    "    driver = webdriver.Chrome()  # 多線程 \n",
    "    driver.get(href)\n",
    "    time.sleep(5)\n",
    "\n",
    "    try:\n",
    "        news_category = driver.find_elements(By.TAG_NAME, 'span')[1].get_attribute(\"innerText\")\n",
    "        news_title = driver.find_element(By.CLASS_NAME, 'article-title').text\n",
    "        news_date = driver.find_element(By.CLASS_NAME, 'date').text\n",
    "        article_bodies = driver.find_elements(By.CLASS_NAME, 'article-body')\n",
    "        news_content = \"\"\n",
    "        for body in article_bodies:\n",
    "            paragraphs = body.find_elements(By.TAG_NAME, 'p')\n",
    "            for paragraph in paragraphs:\n",
    "                news_content += paragraph.text + \"\\n\"\n",
    "        \n",
    "        news_data = {\n",
    "            'Link': href,\n",
    "            'Category': news_category,\n",
    "            'Title': news_title,\n",
    "            'Publish_time': news_date,\n",
    "            'Text': news_content\n",
    "        }\n",
    "        \n",
    "        print(f\"category: {news_category}\")\n",
    "        print(f\"Title: {news_title}\")\n",
    "        print(f\"Date: {news_date}\")\n",
    "        print(f\"Content: {news_content}\")\n",
    "        \n",
    "        return news_data\n",
    "\n",
    "    except Exception as e:\n",
    "        print(f\"Error getting news details from {href}: {e}\")\n",
    "        return None\n",
    "     \n",
    "    finally:\n",
    "        driver.quit()  \n",
    "\n",
    "\n",
    "all_news_data = []\n",
    "\n",
    "\n",
    "for get_url in data['Link']:\n",
    "    print(get_url) \n",
    "\n",
    "    try:\n",
    "        driver.get(get_url)\n",
    "        time.sleep(1)\n",
    "\n",
    "        try:\n",
    "            more = driver.find_element(By.CLASS_NAME, 'more')  # 找 \"more\" 按钮\n",
    "            print(more.text)\n",
    "            more.click()  # 案 \"more\" 按钮\n",
    "            time.sleep(10)  \n",
    "\n",
    "            while True:\n",
    "                time.sleep(5)\n",
    "                news_pages = driver.find_elements(By.CLASS_NAME, 'articlebox-compact')  # 放新聞的box\n",
    "                news_urls = []\n",
    "                all_today_news = True  # 標記是否所有新文都是今天的\n",
    "\n",
    "                for get_news in news_pages:\n",
    "                    news_time = get_news.find_element(By.CLASS_NAME, 'date').text\n",
    "\n",
    "                    if news_time == compare_news_time:\n",
    "                        page_links = get_news.find_elements(By.TAG_NAME, 'h3')\n",
    "\n",
    "                        for page_link in page_links:\n",
    "                            a_tags = page_link.find_elements(By.TAG_NAME, 'a')\n",
    "                            for a_tag in a_tags:\n",
    "                                href = a_tag.get_attribute('href')\n",
    "\n",
    "                                if len(href) <= 300:  # 判斷廣告\n",
    "                                    news_urls.append(href)\n",
    "                                    print('news link' + ': ' + href)\n",
    "                    else:\n",
    "                        all_today_news = False\n",
    "                        break\n",
    "\n",
    "                \n",
    "                with ThreadPoolExecutor(max_workers=10) as executor:  #lag就縮減\n",
    "                    \n",
    "                    news_data_list = list(executor.map(process_news_page, news_urls))\n",
    "                    \n",
    "                    all_news_data.extend(news_data_list)\n",
    "\n",
    "                if not all_today_news:\n",
    "                    print(\"No more news from today on this page.\")\n",
    "                    break  \n",
    "\n",
    "                try:\n",
    "                    next_page = driver.find_element(By.XPATH, '//a[contains(@class, \"page-link\") and text()=\"下一頁\"]')\n",
    "                    next_page.click()\n",
    "                    time.sleep(10)\n",
    "                except Exception as e:\n",
    "                    print('Cannot click next page: ')\n",
    "                    break  # \n",
    "\n",
    "        except Exception as e:\n",
    "            print(f\"Could not click 'more' button on {get_url}\")\n",
    "\n",
    "    except Exception as e:\n",
    "        print(f\"Error accessing {get_url}\")\n",
    "        continue\n",
    "\n"
   ]
  },
  {
   "cell_type": "code",
   "execution_count": null,
   "id": "ce9b7f26",
   "metadata": {},
   "outputs": [],
   "source": [
    "csv_file = 'chinatimes_' + now + '.csv'\n",
    "file_path = \"C:/Users/Administrator/INTERN/Chinatimes_news\"\n",
    "csv_file_path = os.path.join(file_path, csv_file)\n",
    "\n",
    "with open(csv_file_path, mode='w', newline='', encoding='utf-8-sig') as file:\n",
    "    fieldnames = ['Link', 'Category', 'Title', 'Publish_time', 'Text']\n",
    "    writer = csv.DictWriter(file, fieldnames=fieldnames)\n",
    "    \n",
    "    writer.writeheader()\n",
    "    for news_data in all_news_data:\n",
    "        if news_data:\n",
    "            writer.writerow(news_data)\n",
    "\n",
    "driver.quit()"
   ]
  },
  {
   "cell_type": "code",
   "execution_count": null,
   "id": "dd7b1d80",
   "metadata": {},
   "outputs": [],
   "source": [
    "driver.quit()"
   ]
  },
  {
   "cell_type": "code",
   "execution_count": null,
   "id": "d1d22d53",
   "metadata": {},
   "outputs": [],
   "source": [
    "\n"
   ]
  },
  {
   "cell_type": "code",
   "execution_count": null,
   "id": "bc769275",
   "metadata": {},
   "outputs": [],
   "source": []
  },
  {
   "cell_type": "code",
   "execution_count": null,
   "id": "b222410b",
   "metadata": {},
   "outputs": [],
   "source": [
    "\n",
    "    "
   ]
  },
  {
   "cell_type": "code",
   "execution_count": null,
   "id": "f8833004",
   "metadata": {},
   "outputs": [],
   "source": []
  },
  {
   "cell_type": "code",
   "execution_count": null,
   "id": "8eeb4a64",
   "metadata": {},
   "outputs": [],
   "source": []
  },
  {
   "cell_type": "code",
   "execution_count": null,
   "id": "1b87980f",
   "metadata": {},
   "outputs": [],
   "source": []
  },
  {
   "cell_type": "code",
   "execution_count": null,
   "id": "f714c8ff",
   "metadata": {},
   "outputs": [],
   "source": []
  },
  {
   "cell_type": "code",
   "execution_count": null,
   "id": "8ab4b0c5",
   "metadata": {},
   "outputs": [],
   "source": []
  },
  {
   "cell_type": "code",
   "execution_count": null,
   "id": "5134ab67",
   "metadata": {},
   "outputs": [],
   "source": []
  },
  {
   "cell_type": "code",
   "execution_count": null,
   "id": "4b8d12f7",
   "metadata": {},
   "outputs": [],
   "source": []
  },
  {
   "cell_type": "code",
   "execution_count": null,
   "id": "8c71fab3",
   "metadata": {},
   "outputs": [],
   "source": []
  }
 ],
 "metadata": {
  "kernelspec": {
   "display_name": "Python 3 (ipykernel)",
   "language": "python",
   "name": "python3"
  },
  "language_info": {
   "codemirror_mode": {
    "name": "ipython",
    "version": 3
   },
   "file_extension": ".py",
   "mimetype": "text/x-python",
   "name": "python",
   "nbconvert_exporter": "python",
   "pygments_lexer": "ipython3",
   "version": "3.10.9"
  }
 },
 "nbformat": 4,
 "nbformat_minor": 5
}
